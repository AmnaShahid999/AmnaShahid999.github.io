{
  "nbformat": 4,
  "nbformat_minor": 0,
  "metadata": {
    "colab": {
      "provenance": [],
      "toc_visible": true,
      "mount_file_id": "1udVfmXnbaugWZHjWIZnvz1agnqrhjwLn",
      "authorship_tag": "ABX9TyOdtgPHxkveyOLwQIxG+PvN",
      "include_colab_link": true
    },
    "kernelspec": {
      "name": "python3",
      "display_name": "Python 3"
    },
    "language_info": {
      "name": "python"
    }
  },
  "cells": [
    {
      "cell_type": "markdown",
      "metadata": {
        "id": "view-in-github",
        "colab_type": "text"
      },
      "source": [
        "<a href=\"https://colab.research.google.com/github/AmnaShahid999/AmnaShahid999.github.io/blob/master/Dummies_df_working.ipynb\" target=\"_parent\"><img src=\"https://colab.research.google.com/assets/colab-badge.svg\" alt=\"Open In Colab\"/></a>"
      ]
    },
    {
      "cell_type": "code",
      "execution_count": null,
      "metadata": {
        "id": "vA-l9Tv3iXjq",
        "colab": {
          "base_uri": "https://localhost:8080/",
          "height": 273
        },
        "outputId": "a228821c-cea1-478a-839d-02c40c67873a"
      },
      "outputs": [
        {
          "output_type": "execute_result",
          "data": {
            "text/plain": [
              "   sex_dummy  race_dummy  born_dummy  parborn_dummy  disblty_dummy  \\\n",
              "0          0           1           0              0              0   \n",
              "1          1           1           0              0              0   \n",
              "2          0           1           0              0              0   \n",
              "3          0           1           0              0              0   \n",
              "4          0           1           0              0              0   \n",
              "\n",
              "   gender1_dummy  relig_dummy  relig16_dummy  health_dummy  age__25-34  ...  \\\n",
              "0              0            0              0             0       False  ...   \n",
              "1              0            0              0             0       False  ...   \n",
              "2              0            0              0             1       False  ...   \n",
              "3              0            0              0             0        True  ...   \n",
              "4              0            0              0             0       False  ...   \n",
              "\n",
              "   college_segment_Less Than High School  college_segment_No Formal Schooling  \\\n",
              "0                                  False                                False   \n",
              "1                                   True                                False   \n",
              "2                                   True                                False   \n",
              "3                                  False                                False   \n",
              "4                                   True                                False   \n",
              "\n",
              "   college_segment_Some College  happy_encoded  income  rincome  physhlth  \\\n",
              "0                         False            3.0     NaN      NaN       NaN   \n",
              "1                         False            3.0     NaN      NaN       NaN   \n",
              "2                         False            2.0     NaN      NaN       NaN   \n",
              "3                         False            3.0     NaN      NaN       NaN   \n",
              "4                         False            2.0     NaN      NaN       NaN   \n",
              "\n",
              "   mntlhlth  year  cohort  \n",
              "0       NaN  1972  1949.0  \n",
              "1       NaN  1972  1902.0  \n",
              "2       NaN  1972  1924.0  \n",
              "3       NaN  1972  1945.0  \n",
              "4       NaN  1972  1911.0  \n",
              "\n",
              "[5 rows x 26 columns]"
            ],
            "text/html": [
              "\n",
              "  <div id=\"df-90555e72-ec69-4587-83da-ce490d8eeae3\" class=\"colab-df-container\">\n",
              "    <div>\n",
              "<style scoped>\n",
              "    .dataframe tbody tr th:only-of-type {\n",
              "        vertical-align: middle;\n",
              "    }\n",
              "\n",
              "    .dataframe tbody tr th {\n",
              "        vertical-align: top;\n",
              "    }\n",
              "\n",
              "    .dataframe thead th {\n",
              "        text-align: right;\n",
              "    }\n",
              "</style>\n",
              "<table border=\"1\" class=\"dataframe\">\n",
              "  <thead>\n",
              "    <tr style=\"text-align: right;\">\n",
              "      <th></th>\n",
              "      <th>sex_dummy</th>\n",
              "      <th>race_dummy</th>\n",
              "      <th>born_dummy</th>\n",
              "      <th>parborn_dummy</th>\n",
              "      <th>disblty_dummy</th>\n",
              "      <th>gender1_dummy</th>\n",
              "      <th>relig_dummy</th>\n",
              "      <th>relig16_dummy</th>\n",
              "      <th>health_dummy</th>\n",
              "      <th>age__25-34</th>\n",
              "      <th>...</th>\n",
              "      <th>college_segment_Less Than High School</th>\n",
              "      <th>college_segment_No Formal Schooling</th>\n",
              "      <th>college_segment_Some College</th>\n",
              "      <th>happy_encoded</th>\n",
              "      <th>income</th>\n",
              "      <th>rincome</th>\n",
              "      <th>physhlth</th>\n",
              "      <th>mntlhlth</th>\n",
              "      <th>year</th>\n",
              "      <th>cohort</th>\n",
              "    </tr>\n",
              "  </thead>\n",
              "  <tbody>\n",
              "    <tr>\n",
              "      <th>0</th>\n",
              "      <td>0</td>\n",
              "      <td>1</td>\n",
              "      <td>0</td>\n",
              "      <td>0</td>\n",
              "      <td>0</td>\n",
              "      <td>0</td>\n",
              "      <td>0</td>\n",
              "      <td>0</td>\n",
              "      <td>0</td>\n",
              "      <td>False</td>\n",
              "      <td>...</td>\n",
              "      <td>False</td>\n",
              "      <td>False</td>\n",
              "      <td>False</td>\n",
              "      <td>3.0</td>\n",
              "      <td>NaN</td>\n",
              "      <td>NaN</td>\n",
              "      <td>NaN</td>\n",
              "      <td>NaN</td>\n",
              "      <td>1972</td>\n",
              "      <td>1949.0</td>\n",
              "    </tr>\n",
              "    <tr>\n",
              "      <th>1</th>\n",
              "      <td>1</td>\n",
              "      <td>1</td>\n",
              "      <td>0</td>\n",
              "      <td>0</td>\n",
              "      <td>0</td>\n",
              "      <td>0</td>\n",
              "      <td>0</td>\n",
              "      <td>0</td>\n",
              "      <td>0</td>\n",
              "      <td>False</td>\n",
              "      <td>...</td>\n",
              "      <td>True</td>\n",
              "      <td>False</td>\n",
              "      <td>False</td>\n",
              "      <td>3.0</td>\n",
              "      <td>NaN</td>\n",
              "      <td>NaN</td>\n",
              "      <td>NaN</td>\n",
              "      <td>NaN</td>\n",
              "      <td>1972</td>\n",
              "      <td>1902.0</td>\n",
              "    </tr>\n",
              "    <tr>\n",
              "      <th>2</th>\n",
              "      <td>0</td>\n",
              "      <td>1</td>\n",
              "      <td>0</td>\n",
              "      <td>0</td>\n",
              "      <td>0</td>\n",
              "      <td>0</td>\n",
              "      <td>0</td>\n",
              "      <td>0</td>\n",
              "      <td>1</td>\n",
              "      <td>False</td>\n",
              "      <td>...</td>\n",
              "      <td>True</td>\n",
              "      <td>False</td>\n",
              "      <td>False</td>\n",
              "      <td>2.0</td>\n",
              "      <td>NaN</td>\n",
              "      <td>NaN</td>\n",
              "      <td>NaN</td>\n",
              "      <td>NaN</td>\n",
              "      <td>1972</td>\n",
              "      <td>1924.0</td>\n",
              "    </tr>\n",
              "    <tr>\n",
              "      <th>3</th>\n",
              "      <td>0</td>\n",
              "      <td>1</td>\n",
              "      <td>0</td>\n",
              "      <td>0</td>\n",
              "      <td>0</td>\n",
              "      <td>0</td>\n",
              "      <td>0</td>\n",
              "      <td>0</td>\n",
              "      <td>0</td>\n",
              "      <td>True</td>\n",
              "      <td>...</td>\n",
              "      <td>False</td>\n",
              "      <td>False</td>\n",
              "      <td>False</td>\n",
              "      <td>3.0</td>\n",
              "      <td>NaN</td>\n",
              "      <td>NaN</td>\n",
              "      <td>NaN</td>\n",
              "      <td>NaN</td>\n",
              "      <td>1972</td>\n",
              "      <td>1945.0</td>\n",
              "    </tr>\n",
              "    <tr>\n",
              "      <th>4</th>\n",
              "      <td>0</td>\n",
              "      <td>1</td>\n",
              "      <td>0</td>\n",
              "      <td>0</td>\n",
              "      <td>0</td>\n",
              "      <td>0</td>\n",
              "      <td>0</td>\n",
              "      <td>0</td>\n",
              "      <td>0</td>\n",
              "      <td>False</td>\n",
              "      <td>...</td>\n",
              "      <td>True</td>\n",
              "      <td>False</td>\n",
              "      <td>False</td>\n",
              "      <td>2.0</td>\n",
              "      <td>NaN</td>\n",
              "      <td>NaN</td>\n",
              "      <td>NaN</td>\n",
              "      <td>NaN</td>\n",
              "      <td>1972</td>\n",
              "      <td>1911.0</td>\n",
              "    </tr>\n",
              "  </tbody>\n",
              "</table>\n",
              "<p>5 rows × 26 columns</p>\n",
              "</div>\n",
              "    <div class=\"colab-df-buttons\">\n",
              "\n",
              "  <div class=\"colab-df-container\">\n",
              "    <button class=\"colab-df-convert\" onclick=\"convertToInteractive('df-90555e72-ec69-4587-83da-ce490d8eeae3')\"\n",
              "            title=\"Convert this dataframe to an interactive table.\"\n",
              "            style=\"display:none;\">\n",
              "\n",
              "  <svg xmlns=\"http://www.w3.org/2000/svg\" height=\"24px\" viewBox=\"0 -960 960 960\">\n",
              "    <path d=\"M120-120v-720h720v720H120Zm60-500h600v-160H180v160Zm220 220h160v-160H400v160Zm0 220h160v-160H400v160ZM180-400h160v-160H180v160Zm440 0h160v-160H620v160ZM180-180h160v-160H180v160Zm440 0h160v-160H620v160Z\"/>\n",
              "  </svg>\n",
              "    </button>\n",
              "\n",
              "  <style>\n",
              "    .colab-df-container {\n",
              "      display:flex;\n",
              "      gap: 12px;\n",
              "    }\n",
              "\n",
              "    .colab-df-convert {\n",
              "      background-color: #E8F0FE;\n",
              "      border: none;\n",
              "      border-radius: 50%;\n",
              "      cursor: pointer;\n",
              "      display: none;\n",
              "      fill: #1967D2;\n",
              "      height: 32px;\n",
              "      padding: 0 0 0 0;\n",
              "      width: 32px;\n",
              "    }\n",
              "\n",
              "    .colab-df-convert:hover {\n",
              "      background-color: #E2EBFA;\n",
              "      box-shadow: 0px 1px 2px rgba(60, 64, 67, 0.3), 0px 1px 3px 1px rgba(60, 64, 67, 0.15);\n",
              "      fill: #174EA6;\n",
              "    }\n",
              "\n",
              "    .colab-df-buttons div {\n",
              "      margin-bottom: 4px;\n",
              "    }\n",
              "\n",
              "    [theme=dark] .colab-df-convert {\n",
              "      background-color: #3B4455;\n",
              "      fill: #D2E3FC;\n",
              "    }\n",
              "\n",
              "    [theme=dark] .colab-df-convert:hover {\n",
              "      background-color: #434B5C;\n",
              "      box-shadow: 0px 1px 3px 1px rgba(0, 0, 0, 0.15);\n",
              "      filter: drop-shadow(0px 1px 2px rgba(0, 0, 0, 0.3));\n",
              "      fill: #FFFFFF;\n",
              "    }\n",
              "  </style>\n",
              "\n",
              "    <script>\n",
              "      const buttonEl =\n",
              "        document.querySelector('#df-90555e72-ec69-4587-83da-ce490d8eeae3 button.colab-df-convert');\n",
              "      buttonEl.style.display =\n",
              "        google.colab.kernel.accessAllowed ? 'block' : 'none';\n",
              "\n",
              "      async function convertToInteractive(key) {\n",
              "        const element = document.querySelector('#df-90555e72-ec69-4587-83da-ce490d8eeae3');\n",
              "        const dataTable =\n",
              "          await google.colab.kernel.invokeFunction('convertToInteractive',\n",
              "                                                    [key], {});\n",
              "        if (!dataTable) return;\n",
              "\n",
              "        const docLinkHtml = 'Like what you see? Visit the ' +\n",
              "          '<a target=\"_blank\" href=https://colab.research.google.com/notebooks/data_table.ipynb>data table notebook</a>'\n",
              "          + ' to learn more about interactive tables.';\n",
              "        element.innerHTML = '';\n",
              "        dataTable['output_type'] = 'display_data';\n",
              "        await google.colab.output.renderOutput(dataTable, element);\n",
              "        const docLink = document.createElement('div');\n",
              "        docLink.innerHTML = docLinkHtml;\n",
              "        element.appendChild(docLink);\n",
              "      }\n",
              "    </script>\n",
              "  </div>\n",
              "\n",
              "\n",
              "<div id=\"df-ff45a092-fdbf-41d3-a7fd-d524d4f95630\">\n",
              "  <button class=\"colab-df-quickchart\" onclick=\"quickchart('df-ff45a092-fdbf-41d3-a7fd-d524d4f95630')\"\n",
              "            title=\"Suggest charts\"\n",
              "            style=\"display:none;\">\n",
              "\n",
              "<svg xmlns=\"http://www.w3.org/2000/svg\" height=\"24px\"viewBox=\"0 0 24 24\"\n",
              "     width=\"24px\">\n",
              "    <g>\n",
              "        <path d=\"M19 3H5c-1.1 0-2 .9-2 2v14c0 1.1.9 2 2 2h14c1.1 0 2-.9 2-2V5c0-1.1-.9-2-2-2zM9 17H7v-7h2v7zm4 0h-2V7h2v10zm4 0h-2v-4h2v4z\"/>\n",
              "    </g>\n",
              "</svg>\n",
              "  </button>\n",
              "\n",
              "<style>\n",
              "  .colab-df-quickchart {\n",
              "      --bg-color: #E8F0FE;\n",
              "      --fill-color: #1967D2;\n",
              "      --hover-bg-color: #E2EBFA;\n",
              "      --hover-fill-color: #174EA6;\n",
              "      --disabled-fill-color: #AAA;\n",
              "      --disabled-bg-color: #DDD;\n",
              "  }\n",
              "\n",
              "  [theme=dark] .colab-df-quickchart {\n",
              "      --bg-color: #3B4455;\n",
              "      --fill-color: #D2E3FC;\n",
              "      --hover-bg-color: #434B5C;\n",
              "      --hover-fill-color: #FFFFFF;\n",
              "      --disabled-bg-color: #3B4455;\n",
              "      --disabled-fill-color: #666;\n",
              "  }\n",
              "\n",
              "  .colab-df-quickchart {\n",
              "    background-color: var(--bg-color);\n",
              "    border: none;\n",
              "    border-radius: 50%;\n",
              "    cursor: pointer;\n",
              "    display: none;\n",
              "    fill: var(--fill-color);\n",
              "    height: 32px;\n",
              "    padding: 0;\n",
              "    width: 32px;\n",
              "  }\n",
              "\n",
              "  .colab-df-quickchart:hover {\n",
              "    background-color: var(--hover-bg-color);\n",
              "    box-shadow: 0 1px 2px rgba(60, 64, 67, 0.3), 0 1px 3px 1px rgba(60, 64, 67, 0.15);\n",
              "    fill: var(--button-hover-fill-color);\n",
              "  }\n",
              "\n",
              "  .colab-df-quickchart-complete:disabled,\n",
              "  .colab-df-quickchart-complete:disabled:hover {\n",
              "    background-color: var(--disabled-bg-color);\n",
              "    fill: var(--disabled-fill-color);\n",
              "    box-shadow: none;\n",
              "  }\n",
              "\n",
              "  .colab-df-spinner {\n",
              "    border: 2px solid var(--fill-color);\n",
              "    border-color: transparent;\n",
              "    border-bottom-color: var(--fill-color);\n",
              "    animation:\n",
              "      spin 1s steps(1) infinite;\n",
              "  }\n",
              "\n",
              "  @keyframes spin {\n",
              "    0% {\n",
              "      border-color: transparent;\n",
              "      border-bottom-color: var(--fill-color);\n",
              "      border-left-color: var(--fill-color);\n",
              "    }\n",
              "    20% {\n",
              "      border-color: transparent;\n",
              "      border-left-color: var(--fill-color);\n",
              "      border-top-color: var(--fill-color);\n",
              "    }\n",
              "    30% {\n",
              "      border-color: transparent;\n",
              "      border-left-color: var(--fill-color);\n",
              "      border-top-color: var(--fill-color);\n",
              "      border-right-color: var(--fill-color);\n",
              "    }\n",
              "    40% {\n",
              "      border-color: transparent;\n",
              "      border-right-color: var(--fill-color);\n",
              "      border-top-color: var(--fill-color);\n",
              "    }\n",
              "    60% {\n",
              "      border-color: transparent;\n",
              "      border-right-color: var(--fill-color);\n",
              "    }\n",
              "    80% {\n",
              "      border-color: transparent;\n",
              "      border-right-color: var(--fill-color);\n",
              "      border-bottom-color: var(--fill-color);\n",
              "    }\n",
              "    90% {\n",
              "      border-color: transparent;\n",
              "      border-bottom-color: var(--fill-color);\n",
              "    }\n",
              "  }\n",
              "</style>\n",
              "\n",
              "  <script>\n",
              "    async function quickchart(key) {\n",
              "      const quickchartButtonEl =\n",
              "        document.querySelector('#' + key + ' button');\n",
              "      quickchartButtonEl.disabled = true;  // To prevent multiple clicks.\n",
              "      quickchartButtonEl.classList.add('colab-df-spinner');\n",
              "      try {\n",
              "        const charts = await google.colab.kernel.invokeFunction(\n",
              "            'suggestCharts', [key], {});\n",
              "      } catch (error) {\n",
              "        console.error('Error during call to suggestCharts:', error);\n",
              "      }\n",
              "      quickchartButtonEl.classList.remove('colab-df-spinner');\n",
              "      quickchartButtonEl.classList.add('colab-df-quickchart-complete');\n",
              "    }\n",
              "    (() => {\n",
              "      let quickchartButtonEl =\n",
              "        document.querySelector('#df-ff45a092-fdbf-41d3-a7fd-d524d4f95630 button');\n",
              "      quickchartButtonEl.style.display =\n",
              "        google.colab.kernel.accessAllowed ? 'block' : 'none';\n",
              "    })();\n",
              "  </script>\n",
              "</div>\n",
              "\n",
              "    </div>\n",
              "  </div>\n"
            ],
            "application/vnd.google.colaboratory.intrinsic+json": {
              "type": "dataframe",
              "variable_name": "df"
            }
          },
          "metadata": {},
          "execution_count": 33
        }
      ],
      "source": [
        "import pandas as pd\n",
        "import numpy as np\n",
        "import matplotlib.pyplot as plt\n",
        "import seaborn as sns\n",
        "df=pd.read_csv('/content/drive/MyDrive/df_dummies.csv')\n",
        "df.head()"
      ]
    },
    {
      "cell_type": "markdown",
      "source": [
        "###Encoding physical and mental health"
      ],
      "metadata": {
        "id": "6nezcsN6LyJs"
      }
    },
    {
      "cell_type": "code",
      "source": [
        "# Ensure 'physhlth' and 'mntlhlth' columns are numeric and replace NaN with -1\n",
        "df['physhlth'] = pd.to_numeric(df['physhlth'], errors='coerce')\n",
        "#df['physhlth'] = df['physhlth'].fillna(-1).astype(int)  # Replace NaN with -1\n",
        "\n",
        "df['mntlhlth'] = pd.to_numeric(df['mntlhlth'], errors='coerce')\n",
        "#df['mntlhlth'] = df['mntlhlth'].fillna(-1).astype(int)  # Replace NaN with -1\n",
        "\n",
        "\n",
        "def encode_health(value):\n",
        "    #if value == -1:  # Condition for missing values\n",
        "        #return -1\n",
        "    if value == 0:\n",
        "        return 0  # Your original encoding for 0\n",
        "    elif 1 <= value <= 5:\n",
        "        return 1\n",
        "    elif 6 <= value <= 10:\n",
        "        return 2\n",
        "    elif 11 <= value <= 15:\n",
        "        return 3\n",
        "    elif 16 <= value <= 20:\n",
        "        return 4\n",
        "    elif 21 <= value <= 25:\n",
        "        return 5\n",
        "    elif 26 <= value <= 31:\n",
        "        return 6\n",
        "    else:\n",
        "        return np.nan  # Use np.nan for unclassified values (outside 0-31)\n",
        "\n",
        "# Apply the function to create the encoded columns\n",
        "df['physhlth_encoded'] = df['physhlth'].apply(encode_health)\n",
        "df['mntlhlth_encoded'] = df['mntlhlth'].apply(encode_health)\n",
        "\n",
        "# Display value counts of the encoded columns\n",
        "print(df['physhlth_encoded'].value_counts(dropna=False))\n",
        "print(df['mntlhlth_encoded'].value_counts(dropna=False))"
      ],
      "metadata": {
        "colab": {
          "base_uri": "https://localhost:8080/"
        },
        "id": "JQc52HtSoqh6",
        "outputId": "fc7d2c70-cb52-4ed5-def9-0c028856f0fe"
      },
      "execution_count": null,
      "outputs": [
        {
          "output_type": "stream",
          "name": "stdout",
          "text": [
            "physhlth_encoded\n",
            "NaN    55806\n",
            "0.0     5313\n",
            "1.0     2062\n",
            "2.0      442\n",
            "6.0      262\n",
            "3.0      192\n",
            "4.0       80\n",
            "5.0       44\n",
            "Name: count, dtype: int64\n",
            "mntlhlth_encoded\n",
            "NaN    52123\n",
            "0.0     6514\n",
            "1.0     3324\n",
            "2.0      861\n",
            "3.0      508\n",
            "6.0      500\n",
            "4.0      271\n",
            "5.0      100\n",
            "Name: count, dtype: int64\n"
          ]
        }
      ]
    },
    {
      "cell_type": "code",
      "source": [
        "income_mapping = {\n",
        "    '$25,000 or more': 13,\n",
        "    '$20,000 to $24,999': 12,\n",
        "    '$15,000 to $19,999': 11,\n",
        "    '$10,000 to $14,999': 10,\n",
        "    '$8,000 to $9,999': 9,\n",
        "    '$7,000 to $7,999': 8,\n",
        "    '$6,000 to $6,999': 7,\n",
        "    '$5,000 to $5,999': 6,\n",
        "    '$4,000 to $4,999': 5,\n",
        "    '$3,000 to $3,999': 4,\n",
        "    '$1,000 to $2,999': 3,\n",
        "    'Under $1,000': 1\n",
        "}\n",
        "\n",
        "rincome_mapping = {\n",
        "    '$25000 OR MORE': 12,\n",
        "    '$20000 - 24999': 11,\n",
        "    '$15000 - 19999': 10,\n",
        "    '$10000 - 14999': 9,\n",
        "    '$8000 TO 9999': 8,\n",
        "    '$7000 TO 7999': 7,\n",
        "    '$6000 TO 6999': 6,\n",
        "    '$5000 TO 5999': 5,\n",
        "    '$4000 TO 4999': 4,\n",
        "    '$3000 TO 3999': 3,\n",
        "    '$1000 TO 2999': 2,\n",
        "    'LT $1000': 1  # Changed from 0 to 1\n",
        "}\n",
        "\n",
        "df['rincome_encoded'] = df['rincome'].map(rincome_mapping)\n",
        "df['income_encoded'] = df['income'].map(income_mapping)"
      ],
      "metadata": {
        "id": "oLFgEKTEej1n"
      },
      "execution_count": null,
      "outputs": []
    },
    {
      "cell_type": "code",
      "source": [
        "#value counts rincome_encoded and income_encoded\n",
        "print(df['rincome_encoded'].value_counts(dropna=False))\n",
        "print(df['income_encoded'].value_counts(dropna=False))"
      ],
      "metadata": {
        "colab": {
          "base_uri": "https://localhost:8080/"
        },
        "id": "Db35iOQhf9Dz",
        "outputId": "204f82a2-f762-493e-e9f5-f5193b4684f5"
      },
      "execution_count": null,
      "outputs": [
        {
          "output_type": "stream",
          "name": "stdout",
          "text": [
            "rincome_encoded\n",
            "NaN     23159\n",
            "12.0    17851\n",
            "9.0      5005\n",
            "11.0     4014\n",
            "10.0     3948\n",
            "2.0      1814\n",
            "8.0      1783\n",
            "1.0      1266\n",
            "3.0      1233\n",
            "5.0      1087\n",
            "4.0      1052\n",
            "6.0      1000\n",
            "7.0       989\n",
            "Name: count, dtype: int64\n",
            "income_encoded\n",
            "13.0    34399\n",
            "10.0     6776\n",
            "12.0     5467\n",
            "11.0     5259\n",
            "9.0      2265\n",
            "NaN      1470\n",
            "3.0      1385\n",
            "8.0      1302\n",
            "6.0      1299\n",
            "4.0      1284\n",
            "7.0      1229\n",
            "5.0      1171\n",
            "1.0       895\n",
            "Name: count, dtype: int64\n"
          ]
        }
      ]
    },
    {
      "cell_type": "code",
      "source": [
        "df['happy_encoded'] = df['happy_encoded'].astype(int)\n"
      ],
      "metadata": {
        "id": "G0r6u8v5b80r"
      },
      "execution_count": null,
      "outputs": []
    },
    {
      "cell_type": "code",
      "source": [
        "#value count happy_encoded\n",
        "print(df['happy_encoded'].value_counts(dropna=False))"
      ],
      "metadata": {
        "colab": {
          "base_uri": "https://localhost:8080/"
        },
        "id": "E6GrPDO3bzAU",
        "outputId": "5d34229e-bdd2-46ec-bb8d-9aa60b7f3ae7"
      },
      "execution_count": null,
      "outputs": [
        {
          "output_type": "stream",
          "name": "stdout",
          "text": [
            "happy_encoded\n",
            "2    33790\n",
            "1    22202\n",
            "3     8209\n",
            "Name: count, dtype: int64\n"
          ]
        }
      ]
    },
    {
      "cell_type": "markdown",
      "source": [
        "##Model Prep"
      ],
      "metadata": {
        "id": "upbwKxW-ujVP"
      }
    },
    {
      "cell_type": "code",
      "source": [
        "# ----> Drop 'income' and 'rincome' columns from df <----\n",
        "df = df.drop(['income', 'rincome','mntlhlth','physhlth'], axis=1)"
      ],
      "metadata": {
        "id": "CxzASH5yiOmB"
      },
      "execution_count": null,
      "outputs": []
    },
    {
      "cell_type": "code",
      "source": [
        "df.head()"
      ],
      "metadata": {
        "colab": {
          "base_uri": "https://localhost:8080/",
          "height": 273
        },
        "id": "2wP6PCssvGAe",
        "outputId": "9badaba3-98a9-4b66-8909-1d57373c86d8"
      },
      "execution_count": null,
      "outputs": [
        {
          "output_type": "execute_result",
          "data": {
            "text/plain": [
              "   sex_dummy  race_dummy  born_dummy  parborn_dummy  disblty_dummy  \\\n",
              "0          0           1           0              0              0   \n",
              "1          1           1           0              0              0   \n",
              "2          0           1           0              0              0   \n",
              "3          0           1           0              0              0   \n",
              "4          0           1           0              0              0   \n",
              "\n",
              "   gender1_dummy  relig_dummy  relig16_dummy  health_dummy  age__25-34  ...  \\\n",
              "0              0            0              0             0       False  ...   \n",
              "1              0            0              0             0       False  ...   \n",
              "2              0            0              0             1       False  ...   \n",
              "3              0            0              0             0        True  ...   \n",
              "4              0            0              0             0       False  ...   \n",
              "\n",
              "   college_segment_Less Than High School  college_segment_No Formal Schooling  \\\n",
              "0                                  False                                False   \n",
              "1                                   True                                False   \n",
              "2                                   True                                False   \n",
              "3                                  False                                False   \n",
              "4                                   True                                False   \n",
              "\n",
              "   college_segment_Some College  happy_encoded  year  cohort  \\\n",
              "0                         False              3  1972  1949.0   \n",
              "1                         False              3  1972  1902.0   \n",
              "2                         False              2  1972  1924.0   \n",
              "3                         False              3  1972  1945.0   \n",
              "4                         False              2  1972  1911.0   \n",
              "\n",
              "   physhlth_encoded  mntlhlth_encoded  rincome_encoded  income_encoded  \n",
              "0               NaN               NaN              NaN             NaN  \n",
              "1               NaN               NaN              NaN             NaN  \n",
              "2               NaN               NaN              NaN             NaN  \n",
              "3               NaN               NaN              NaN             NaN  \n",
              "4               NaN               NaN              NaN             NaN  \n",
              "\n",
              "[5 rows x 26 columns]"
            ],
            "text/html": [
              "\n",
              "  <div id=\"df-561552b6-a2cf-42be-b007-653c13493ad8\" class=\"colab-df-container\">\n",
              "    <div>\n",
              "<style scoped>\n",
              "    .dataframe tbody tr th:only-of-type {\n",
              "        vertical-align: middle;\n",
              "    }\n",
              "\n",
              "    .dataframe tbody tr th {\n",
              "        vertical-align: top;\n",
              "    }\n",
              "\n",
              "    .dataframe thead th {\n",
              "        text-align: right;\n",
              "    }\n",
              "</style>\n",
              "<table border=\"1\" class=\"dataframe\">\n",
              "  <thead>\n",
              "    <tr style=\"text-align: right;\">\n",
              "      <th></th>\n",
              "      <th>sex_dummy</th>\n",
              "      <th>race_dummy</th>\n",
              "      <th>born_dummy</th>\n",
              "      <th>parborn_dummy</th>\n",
              "      <th>disblty_dummy</th>\n",
              "      <th>gender1_dummy</th>\n",
              "      <th>relig_dummy</th>\n",
              "      <th>relig16_dummy</th>\n",
              "      <th>health_dummy</th>\n",
              "      <th>age__25-34</th>\n",
              "      <th>...</th>\n",
              "      <th>college_segment_Less Than High School</th>\n",
              "      <th>college_segment_No Formal Schooling</th>\n",
              "      <th>college_segment_Some College</th>\n",
              "      <th>happy_encoded</th>\n",
              "      <th>year</th>\n",
              "      <th>cohort</th>\n",
              "      <th>physhlth_encoded</th>\n",
              "      <th>mntlhlth_encoded</th>\n",
              "      <th>rincome_encoded</th>\n",
              "      <th>income_encoded</th>\n",
              "    </tr>\n",
              "  </thead>\n",
              "  <tbody>\n",
              "    <tr>\n",
              "      <th>0</th>\n",
              "      <td>0</td>\n",
              "      <td>1</td>\n",
              "      <td>0</td>\n",
              "      <td>0</td>\n",
              "      <td>0</td>\n",
              "      <td>0</td>\n",
              "      <td>0</td>\n",
              "      <td>0</td>\n",
              "      <td>0</td>\n",
              "      <td>False</td>\n",
              "      <td>...</td>\n",
              "      <td>False</td>\n",
              "      <td>False</td>\n",
              "      <td>False</td>\n",
              "      <td>3</td>\n",
              "      <td>1972</td>\n",
              "      <td>1949.0</td>\n",
              "      <td>NaN</td>\n",
              "      <td>NaN</td>\n",
              "      <td>NaN</td>\n",
              "      <td>NaN</td>\n",
              "    </tr>\n",
              "    <tr>\n",
              "      <th>1</th>\n",
              "      <td>1</td>\n",
              "      <td>1</td>\n",
              "      <td>0</td>\n",
              "      <td>0</td>\n",
              "      <td>0</td>\n",
              "      <td>0</td>\n",
              "      <td>0</td>\n",
              "      <td>0</td>\n",
              "      <td>0</td>\n",
              "      <td>False</td>\n",
              "      <td>...</td>\n",
              "      <td>True</td>\n",
              "      <td>False</td>\n",
              "      <td>False</td>\n",
              "      <td>3</td>\n",
              "      <td>1972</td>\n",
              "      <td>1902.0</td>\n",
              "      <td>NaN</td>\n",
              "      <td>NaN</td>\n",
              "      <td>NaN</td>\n",
              "      <td>NaN</td>\n",
              "    </tr>\n",
              "    <tr>\n",
              "      <th>2</th>\n",
              "      <td>0</td>\n",
              "      <td>1</td>\n",
              "      <td>0</td>\n",
              "      <td>0</td>\n",
              "      <td>0</td>\n",
              "      <td>0</td>\n",
              "      <td>0</td>\n",
              "      <td>0</td>\n",
              "      <td>1</td>\n",
              "      <td>False</td>\n",
              "      <td>...</td>\n",
              "      <td>True</td>\n",
              "      <td>False</td>\n",
              "      <td>False</td>\n",
              "      <td>2</td>\n",
              "      <td>1972</td>\n",
              "      <td>1924.0</td>\n",
              "      <td>NaN</td>\n",
              "      <td>NaN</td>\n",
              "      <td>NaN</td>\n",
              "      <td>NaN</td>\n",
              "    </tr>\n",
              "    <tr>\n",
              "      <th>3</th>\n",
              "      <td>0</td>\n",
              "      <td>1</td>\n",
              "      <td>0</td>\n",
              "      <td>0</td>\n",
              "      <td>0</td>\n",
              "      <td>0</td>\n",
              "      <td>0</td>\n",
              "      <td>0</td>\n",
              "      <td>0</td>\n",
              "      <td>True</td>\n",
              "      <td>...</td>\n",
              "      <td>False</td>\n",
              "      <td>False</td>\n",
              "      <td>False</td>\n",
              "      <td>3</td>\n",
              "      <td>1972</td>\n",
              "      <td>1945.0</td>\n",
              "      <td>NaN</td>\n",
              "      <td>NaN</td>\n",
              "      <td>NaN</td>\n",
              "      <td>NaN</td>\n",
              "    </tr>\n",
              "    <tr>\n",
              "      <th>4</th>\n",
              "      <td>0</td>\n",
              "      <td>1</td>\n",
              "      <td>0</td>\n",
              "      <td>0</td>\n",
              "      <td>0</td>\n",
              "      <td>0</td>\n",
              "      <td>0</td>\n",
              "      <td>0</td>\n",
              "      <td>0</td>\n",
              "      <td>False</td>\n",
              "      <td>...</td>\n",
              "      <td>True</td>\n",
              "      <td>False</td>\n",
              "      <td>False</td>\n",
              "      <td>2</td>\n",
              "      <td>1972</td>\n",
              "      <td>1911.0</td>\n",
              "      <td>NaN</td>\n",
              "      <td>NaN</td>\n",
              "      <td>NaN</td>\n",
              "      <td>NaN</td>\n",
              "    </tr>\n",
              "  </tbody>\n",
              "</table>\n",
              "<p>5 rows × 26 columns</p>\n",
              "</div>\n",
              "    <div class=\"colab-df-buttons\">\n",
              "\n",
              "  <div class=\"colab-df-container\">\n",
              "    <button class=\"colab-df-convert\" onclick=\"convertToInteractive('df-561552b6-a2cf-42be-b007-653c13493ad8')\"\n",
              "            title=\"Convert this dataframe to an interactive table.\"\n",
              "            style=\"display:none;\">\n",
              "\n",
              "  <svg xmlns=\"http://www.w3.org/2000/svg\" height=\"24px\" viewBox=\"0 -960 960 960\">\n",
              "    <path d=\"M120-120v-720h720v720H120Zm60-500h600v-160H180v160Zm220 220h160v-160H400v160Zm0 220h160v-160H400v160ZM180-400h160v-160H180v160Zm440 0h160v-160H620v160ZM180-180h160v-160H180v160Zm440 0h160v-160H620v160Z\"/>\n",
              "  </svg>\n",
              "    </button>\n",
              "\n",
              "  <style>\n",
              "    .colab-df-container {\n",
              "      display:flex;\n",
              "      gap: 12px;\n",
              "    }\n",
              "\n",
              "    .colab-df-convert {\n",
              "      background-color: #E8F0FE;\n",
              "      border: none;\n",
              "      border-radius: 50%;\n",
              "      cursor: pointer;\n",
              "      display: none;\n",
              "      fill: #1967D2;\n",
              "      height: 32px;\n",
              "      padding: 0 0 0 0;\n",
              "      width: 32px;\n",
              "    }\n",
              "\n",
              "    .colab-df-convert:hover {\n",
              "      background-color: #E2EBFA;\n",
              "      box-shadow: 0px 1px 2px rgba(60, 64, 67, 0.3), 0px 1px 3px 1px rgba(60, 64, 67, 0.15);\n",
              "      fill: #174EA6;\n",
              "    }\n",
              "\n",
              "    .colab-df-buttons div {\n",
              "      margin-bottom: 4px;\n",
              "    }\n",
              "\n",
              "    [theme=dark] .colab-df-convert {\n",
              "      background-color: #3B4455;\n",
              "      fill: #D2E3FC;\n",
              "    }\n",
              "\n",
              "    [theme=dark] .colab-df-convert:hover {\n",
              "      background-color: #434B5C;\n",
              "      box-shadow: 0px 1px 3px 1px rgba(0, 0, 0, 0.15);\n",
              "      filter: drop-shadow(0px 1px 2px rgba(0, 0, 0, 0.3));\n",
              "      fill: #FFFFFF;\n",
              "    }\n",
              "  </style>\n",
              "\n",
              "    <script>\n",
              "      const buttonEl =\n",
              "        document.querySelector('#df-561552b6-a2cf-42be-b007-653c13493ad8 button.colab-df-convert');\n",
              "      buttonEl.style.display =\n",
              "        google.colab.kernel.accessAllowed ? 'block' : 'none';\n",
              "\n",
              "      async function convertToInteractive(key) {\n",
              "        const element = document.querySelector('#df-561552b6-a2cf-42be-b007-653c13493ad8');\n",
              "        const dataTable =\n",
              "          await google.colab.kernel.invokeFunction('convertToInteractive',\n",
              "                                                    [key], {});\n",
              "        if (!dataTable) return;\n",
              "\n",
              "        const docLinkHtml = 'Like what you see? Visit the ' +\n",
              "          '<a target=\"_blank\" href=https://colab.research.google.com/notebooks/data_table.ipynb>data table notebook</a>'\n",
              "          + ' to learn more about interactive tables.';\n",
              "        element.innerHTML = '';\n",
              "        dataTable['output_type'] = 'display_data';\n",
              "        await google.colab.output.renderOutput(dataTable, element);\n",
              "        const docLink = document.createElement('div');\n",
              "        docLink.innerHTML = docLinkHtml;\n",
              "        element.appendChild(docLink);\n",
              "      }\n",
              "    </script>\n",
              "  </div>\n",
              "\n",
              "\n",
              "<div id=\"df-1ce3b718-2a46-4f82-b959-beedd3ef5c04\">\n",
              "  <button class=\"colab-df-quickchart\" onclick=\"quickchart('df-1ce3b718-2a46-4f82-b959-beedd3ef5c04')\"\n",
              "            title=\"Suggest charts\"\n",
              "            style=\"display:none;\">\n",
              "\n",
              "<svg xmlns=\"http://www.w3.org/2000/svg\" height=\"24px\"viewBox=\"0 0 24 24\"\n",
              "     width=\"24px\">\n",
              "    <g>\n",
              "        <path d=\"M19 3H5c-1.1 0-2 .9-2 2v14c0 1.1.9 2 2 2h14c1.1 0 2-.9 2-2V5c0-1.1-.9-2-2-2zM9 17H7v-7h2v7zm4 0h-2V7h2v10zm4 0h-2v-4h2v4z\"/>\n",
              "    </g>\n",
              "</svg>\n",
              "  </button>\n",
              "\n",
              "<style>\n",
              "  .colab-df-quickchart {\n",
              "      --bg-color: #E8F0FE;\n",
              "      --fill-color: #1967D2;\n",
              "      --hover-bg-color: #E2EBFA;\n",
              "      --hover-fill-color: #174EA6;\n",
              "      --disabled-fill-color: #AAA;\n",
              "      --disabled-bg-color: #DDD;\n",
              "  }\n",
              "\n",
              "  [theme=dark] .colab-df-quickchart {\n",
              "      --bg-color: #3B4455;\n",
              "      --fill-color: #D2E3FC;\n",
              "      --hover-bg-color: #434B5C;\n",
              "      --hover-fill-color: #FFFFFF;\n",
              "      --disabled-bg-color: #3B4455;\n",
              "      --disabled-fill-color: #666;\n",
              "  }\n",
              "\n",
              "  .colab-df-quickchart {\n",
              "    background-color: var(--bg-color);\n",
              "    border: none;\n",
              "    border-radius: 50%;\n",
              "    cursor: pointer;\n",
              "    display: none;\n",
              "    fill: var(--fill-color);\n",
              "    height: 32px;\n",
              "    padding: 0;\n",
              "    width: 32px;\n",
              "  }\n",
              "\n",
              "  .colab-df-quickchart:hover {\n",
              "    background-color: var(--hover-bg-color);\n",
              "    box-shadow: 0 1px 2px rgba(60, 64, 67, 0.3), 0 1px 3px 1px rgba(60, 64, 67, 0.15);\n",
              "    fill: var(--button-hover-fill-color);\n",
              "  }\n",
              "\n",
              "  .colab-df-quickchart-complete:disabled,\n",
              "  .colab-df-quickchart-complete:disabled:hover {\n",
              "    background-color: var(--disabled-bg-color);\n",
              "    fill: var(--disabled-fill-color);\n",
              "    box-shadow: none;\n",
              "  }\n",
              "\n",
              "  .colab-df-spinner {\n",
              "    border: 2px solid var(--fill-color);\n",
              "    border-color: transparent;\n",
              "    border-bottom-color: var(--fill-color);\n",
              "    animation:\n",
              "      spin 1s steps(1) infinite;\n",
              "  }\n",
              "\n",
              "  @keyframes spin {\n",
              "    0% {\n",
              "      border-color: transparent;\n",
              "      border-bottom-color: var(--fill-color);\n",
              "      border-left-color: var(--fill-color);\n",
              "    }\n",
              "    20% {\n",
              "      border-color: transparent;\n",
              "      border-left-color: var(--fill-color);\n",
              "      border-top-color: var(--fill-color);\n",
              "    }\n",
              "    30% {\n",
              "      border-color: transparent;\n",
              "      border-left-color: var(--fill-color);\n",
              "      border-top-color: var(--fill-color);\n",
              "      border-right-color: var(--fill-color);\n",
              "    }\n",
              "    40% {\n",
              "      border-color: transparent;\n",
              "      border-right-color: var(--fill-color);\n",
              "      border-top-color: var(--fill-color);\n",
              "    }\n",
              "    60% {\n",
              "      border-color: transparent;\n",
              "      border-right-color: var(--fill-color);\n",
              "    }\n",
              "    80% {\n",
              "      border-color: transparent;\n",
              "      border-right-color: var(--fill-color);\n",
              "      border-bottom-color: var(--fill-color);\n",
              "    }\n",
              "    90% {\n",
              "      border-color: transparent;\n",
              "      border-bottom-color: var(--fill-color);\n",
              "    }\n",
              "  }\n",
              "</style>\n",
              "\n",
              "  <script>\n",
              "    async function quickchart(key) {\n",
              "      const quickchartButtonEl =\n",
              "        document.querySelector('#' + key + ' button');\n",
              "      quickchartButtonEl.disabled = true;  // To prevent multiple clicks.\n",
              "      quickchartButtonEl.classList.add('colab-df-spinner');\n",
              "      try {\n",
              "        const charts = await google.colab.kernel.invokeFunction(\n",
              "            'suggestCharts', [key], {});\n",
              "      } catch (error) {\n",
              "        console.error('Error during call to suggestCharts:', error);\n",
              "      }\n",
              "      quickchartButtonEl.classList.remove('colab-df-spinner');\n",
              "      quickchartButtonEl.classList.add('colab-df-quickchart-complete');\n",
              "    }\n",
              "    (() => {\n",
              "      let quickchartButtonEl =\n",
              "        document.querySelector('#df-1ce3b718-2a46-4f82-b959-beedd3ef5c04 button');\n",
              "      quickchartButtonEl.style.display =\n",
              "        google.colab.kernel.accessAllowed ? 'block' : 'none';\n",
              "    })();\n",
              "  </script>\n",
              "</div>\n",
              "\n",
              "    </div>\n",
              "  </div>\n"
            ],
            "application/vnd.google.colaboratory.intrinsic+json": {
              "type": "dataframe",
              "variable_name": "df"
            }
          },
          "metadata": {},
          "execution_count": 40
        }
      ]
    },
    {
      "cell_type": "code",
      "source": [
        "#list all columns\n",
        "df.columns"
      ],
      "metadata": {
        "colab": {
          "base_uri": "https://localhost:8080/"
        },
        "id": "VMm28M1lbxQM",
        "outputId": "d6382327-b746-4e3c-c51b-874c29737b6f"
      },
      "execution_count": null,
      "outputs": [
        {
          "output_type": "execute_result",
          "data": {
            "text/plain": [
              "Index(['sex_dummy', 'race_dummy', 'born_dummy', 'parborn_dummy',\n",
              "       'disblty_dummy', 'gender1_dummy', 'relig_dummy', 'relig16_dummy',\n",
              "       'health_dummy', 'age__25-34', 'age__35-44', 'age__45-54', 'age__55-64',\n",
              "       'age__65+', 'college_segment_Bachelors',\n",
              "       'college_segment_Graduate or Above',\n",
              "       'college_segment_Less Than High School',\n",
              "       'college_segment_No Formal Schooling', 'college_segment_Some College',\n",
              "       'happy_encoded', 'year', 'cohort', 'physhlth_encoded',\n",
              "       'mntlhlth_encoded', 'rincome_encoded', 'income_encoded'],\n",
              "      dtype='object')"
            ]
          },
          "metadata": {},
          "execution_count": 41
        }
      ]
    },
    {
      "cell_type": "code",
      "source": [
        "df.shape"
      ],
      "metadata": {
        "colab": {
          "base_uri": "https://localhost:8080/"
        },
        "id": "t0mqAGwxjkzh",
        "outputId": "b1f932fe-6a9f-453c-a8ce-b6ed46bdcfee"
      },
      "execution_count": null,
      "outputs": [
        {
          "output_type": "execute_result",
          "data": {
            "text/plain": [
              "(64201, 26)"
            ]
          },
          "metadata": {},
          "execution_count": 42
        }
      ]
    },
    {
      "cell_type": "code",
      "source": [
        "#for the columns with missing values, i want to impute mean\n",
        "import pandas as pd\n",
        "from sklearn.model_selection import train_test_split\n",
        "from sklearn.linear_model import LogisticRegression\n",
        "from sklearn.metrics import accuracy_score\n",
        "from sklearn.preprocessing import StandardScaler\n",
        "from sklearn.impute import SimpleImputer # Import SimpleImputer\n",
        "from sklearn.metrics import accuracy_score, classification_report\n",
        "import statsmodels.api as sm\n",
        "\n",
        "# Assuming 'happy_encoded' is your dependent variable and the rest are independent variables\n",
        "X = df.drop('happy_encoded', axis=1)\n",
        "y = df['happy_encoded']\n",
        "\n",
        "# ----> Impute mean for missing values in X <----\n",
        "imputer = SimpleImputer(strategy='mean')  # Create a SimpleImputer object with strategy='mean'\n",
        "X = pd.DataFrame(imputer.fit_transform(X), columns=X.columns) # Fit and transform on X\n",
        "\n",
        "\n",
        "# ----> Drop rows with missing values in y <----\n",
        "# (Imputation is typically not recommended for the target variable)\n",
        "X = X[y.notna()]\n",
        "y = y.dropna()\n",
        "\n",
        "# ----> Reset index after dropping rows to avoid issues <----\n",
        "X = X.reset_index(drop=True)\n",
        "y = y.reset_index(drop=True)\n",
        "\n",
        "# Split data into training and testing sets\n",
        "X_train, X_test, y_train, y_test = train_test_split(X, y, test_size=0.2, random_state=42)\n",
        "\n",
        "# Standardize features\n",
        "scaler = StandardScaler() # Create a StandardScaler object\n",
        "X_scaled = scaler.fit_transform(X_train) # Fit and transform on training data\n",
        "X_test = scaler.transform(X_test) # Transform test data using the fitted scaler\n"
      ],
      "metadata": {
        "id": "BkH__DYnwIjl"
      },
      "execution_count": null,
      "outputs": []
    },
    {
      "cell_type": "code",
      "source": [
        "#want to see columns in my xtrain\n",
        "X_train.columns"
      ],
      "metadata": {
        "colab": {
          "base_uri": "https://localhost:8080/"
        },
        "id": "AYYm-9nKkhxR",
        "outputId": "e29443e4-044f-427e-f49e-cf80af502925"
      },
      "execution_count": null,
      "outputs": [
        {
          "output_type": "execute_result",
          "data": {
            "text/plain": [
              "Index(['sex_dummy', 'race_dummy', 'born_dummy', 'parborn_dummy',\n",
              "       'disblty_dummy', 'gender1_dummy', 'relig_dummy', 'relig16_dummy',\n",
              "       'health_dummy', 'age__25-34', 'age__35-44', 'age__45-54', 'age__55-64',\n",
              "       'age__65+', 'college_segment_Bachelors',\n",
              "       'college_segment_Graduate or Above',\n",
              "       'college_segment_Less Than High School',\n",
              "       'college_segment_No Formal Schooling', 'college_segment_Some College',\n",
              "       'year', 'cohort', 'physhlth_encoded', 'mntlhlth_encoded',\n",
              "       'rincome_encoded', 'income_encoded'],\n",
              "      dtype='object')"
            ]
          },
          "metadata": {},
          "execution_count": 44
        }
      ]
    },
    {
      "cell_type": "code",
      "source": [
        "#want to see columns in my y train\n",
        "y_train.index"
      ],
      "metadata": {
        "colab": {
          "base_uri": "https://localhost:8080/"
        },
        "id": "lK2PmPKvkpPZ",
        "outputId": "f31f4027-0924-40bd-8e2d-e0220dc19950"
      },
      "execution_count": null,
      "outputs": [
        {
          "output_type": "execute_result",
          "data": {
            "text/plain": [
              "Index([ 5792, 27333, 25667, 17249, 32414, 57203, 17497, 26584, 42505, 60452,\n",
              "       ...\n",
              "        6265, 54886, 11284, 44732, 54343, 62570, 38158,   860, 15795, 56422],\n",
              "      dtype='int64', length=51360)"
            ]
          },
          "metadata": {},
          "execution_count": 45
        }
      ]
    },
    {
      "cell_type": "code",
      "source": [
        "print(y_train.head())"
      ],
      "metadata": {
        "colab": {
          "base_uri": "https://localhost:8080/"
        },
        "id": "iXsrE-kelwXH",
        "outputId": "08f8ce52-698d-491a-fc66-8582d4e072ef"
      },
      "execution_count": null,
      "outputs": [
        {
          "output_type": "stream",
          "name": "stdout",
          "text": [
            "5792     1\n",
            "27333    3\n",
            "25667    1\n",
            "17249    2\n",
            "32414    2\n",
            "Name: happy_encoded, dtype: int64\n"
          ]
        }
      ]
    },
    {
      "cell_type": "markdown",
      "source": [
        "##Multinomial Logistic Regression"
      ],
      "metadata": {
        "id": "F4S2eYNhuGte"
      }
    },
    {
      "cell_type": "code",
      "source": [
        "import pandas as pd\n",
        "from sklearn.model_selection import train_test_split\n",
        "from sklearn.linear_model import LogisticRegression\n",
        "from sklearn.preprocessing import StandardScaler\n",
        "from sklearn.impute import SimpleImputer"
      ],
      "metadata": {
        "id": "OmSMmC3rxNFT"
      },
      "execution_count": null,
      "outputs": []
    },
    {
      "cell_type": "code",
      "source": [
        "# ----> Fit the statsmodels MNLogit model <----\n",
        "# Use X_train instead of X_scaled, as X_scaled is derived from X_train\n",
        "sm_model = sm.MNLogit(y_train, X_scaled, ref_category=1).fit() # Assign the model to sm_model\n",
        "\n",
        "# ----> Print the summary of the statsmodels model <----\n",
        "print(sm_model.summary())"
      ],
      "metadata": {
        "colab": {
          "base_uri": "https://localhost:8080/"
        },
        "id": "7-4Gk6TELNZ_",
        "outputId": "a15ff45f-17d4-4e04-b355-984b5dfb3976"
      },
      "execution_count": null,
      "outputs": [
        {
          "output_type": "stream",
          "name": "stderr",
          "text": [
            "/usr/local/lib/python3.11/dist-packages/statsmodels/base/model.py:130: ValueWarning: unknown kwargs ['ref_category']\n",
            "  warnings.warn(msg, ValueWarning)\n"
          ]
        },
        {
          "output_type": "stream",
          "name": "stdout",
          "text": [
            "Optimization terminated successfully.\n",
            "         Current function value: 1.066270\n",
            "         Iterations 5\n"
          ]
        },
        {
          "output_type": "stream",
          "name": "stderr",
          "text": [
            "/usr/local/lib/python3.11/dist-packages/statsmodels/base/model.py:130: ValueWarning: unknown kwargs ['ref_category']\n",
            "  warnings.warn(msg, ValueWarning)\n"
          ]
        },
        {
          "output_type": "stream",
          "name": "stdout",
          "text": [
            "                          MNLogit Regression Results                          \n",
            "==============================================================================\n",
            "Dep. Variable:          happy_encoded   No. Observations:                51360\n",
            "Model:                        MNLogit   Df Residuals:                    51310\n",
            "Method:                           MLE   Df Model:                           48\n",
            "Date:                Wed, 02 Apr 2025   Pseudo R-squ.:                 -0.1016\n",
            "Time:                        21:15:19   Log-Likelihood:                -54764.\n",
            "converged:                       True   LL-Null:                       -49714.\n",
            "Covariance Type:            nonrobust   LLR p-value:                     1.000\n",
            "===================================================================================\n",
            "happy_encoded=2       coef    std err          z      P>|z|      [0.025      0.975]\n",
            "-----------------------------------------------------------------------------------\n",
            "x1                  0.1298      0.012     10.559      0.000       0.106       0.154\n",
            "x2                 -0.0328      0.012     -2.777      0.005      -0.056      -0.010\n",
            "x3                  0.2909      0.018     15.926      0.000       0.255       0.327\n",
            "x4                 -0.0356      0.018     -2.017      0.044      -0.070      -0.001\n",
            "x5                  0.0237      0.012      1.929      0.054      -0.000       0.048\n",
            "x6                 -0.2093      0.013    -16.465      0.000      -0.234      -0.184\n",
            "x7                 -0.0455      0.012     -3.714      0.000      -0.070      -0.022\n",
            "x8                  0.0156      0.012      1.258      0.208      -0.009       0.040\n",
            "x9                 -0.3380      0.011    -29.992      0.000      -0.360      -0.316\n",
            "x10                 0.0069      0.021      0.331      0.740      -0.034       0.048\n",
            "x11                 0.0182      0.029      0.631      0.528      -0.038       0.075\n",
            "x12                 0.0020      0.037      0.054      0.957      -0.070       0.074\n",
            "x13                -0.0064      0.044     -0.145      0.885      -0.093       0.080\n",
            "x14                -0.0418      0.063     -0.666      0.506      -0.165       0.081\n",
            "x15                -0.0261      0.104     -0.252      0.801      -0.230       0.177\n",
            "x16                -0.0098      0.096     -0.102      0.919      -0.198       0.179\n",
            "x17                -0.0163      0.148     -0.110      0.912      -0.307       0.274\n",
            "x18                -0.0056      0.017     -0.329      0.742      -0.039       0.028\n",
            "x19                -0.0105      0.127     -0.082      0.934      -0.260       0.239\n",
            "x20                -0.1534      0.049     -3.144      0.002      -0.249      -0.058\n",
            "x21                 0.1625      0.067      2.415      0.016       0.031       0.294\n",
            "x22                 0.0163      0.012      1.316      0.188      -0.008       0.041\n",
            "x23                 0.1031      0.014      7.523      0.000       0.076       0.130\n",
            "x24                -0.0342      0.013     -2.657      0.008      -0.060      -0.009\n",
            "x25                -0.0958      0.014     -6.747      0.000      -0.124      -0.068\n",
            "-----------------------------------------------------------------------------------\n",
            "happy_encoded=3       coef    std err          z      P>|z|      [0.025      0.975]\n",
            "-----------------------------------------------------------------------------------\n",
            "x1                  0.1354      0.012     10.970      0.000       0.111       0.160\n",
            "x2                 -0.0955      0.011     -8.325      0.000      -0.118      -0.073\n",
            "x3                  0.1401      0.018      7.768      0.000       0.105       0.175\n",
            "x4                 -0.0220      0.018     -1.232      0.218      -0.057       0.013\n",
            "x5                  0.0437      0.011      3.839      0.000       0.021       0.066\n",
            "x6                 -0.1999      0.013    -15.797      0.000      -0.225      -0.175\n",
            "x7                 -0.0135      0.011     -1.190      0.234      -0.036       0.009\n",
            "x8                  0.0156      0.012      1.305      0.192      -0.008       0.039\n",
            "x9                 -0.2497      0.011    -22.497      0.000      -0.271      -0.228\n",
            "x10                -0.0017      0.021     -0.078      0.938      -0.043       0.040\n",
            "x11                 0.0287      0.029      0.999      0.318      -0.028       0.085\n",
            "x12                 0.0240      0.036      0.659      0.510      -0.047       0.095\n",
            "x13                 0.0151      0.044      0.344      0.731      -0.071       0.101\n",
            "x14                -0.0587      0.062     -0.943      0.346      -0.181       0.063\n",
            "x15                -0.0387      0.100     -0.386      0.700      -0.235       0.158\n",
            "x16                -0.0365      0.093     -0.393      0.694      -0.218       0.146\n",
            "x17                 0.0335      0.143      0.234      0.815      -0.247       0.314\n",
            "x18                -0.0026      0.016     -0.160      0.873      -0.034       0.029\n",
            "x19                -0.0152      0.123     -0.124      0.902      -0.257       0.226\n",
            "x20                 0.0880      0.048      1.828      0.068      -0.006       0.182\n",
            "x21                 0.0502      0.066      0.755      0.450      -0.080       0.180\n",
            "x22                 0.0195      0.012      1.605      0.109      -0.004       0.043\n",
            "x23                 0.1801      0.013     13.739      0.000       0.154       0.206\n",
            "x24                -0.0461      0.013     -3.587      0.000      -0.071      -0.021\n",
            "x25                -0.2359      0.014    -17.384      0.000      -0.262      -0.209\n",
            "===================================================================================\n"
          ]
        }
      ]
    },
    {
      "cell_type": "code",
      "source": [
        "#want all column names\n",
        "column_names = df.columns.tolist()\n",
        "\n",
        "# Print the column names\n",
        "print(\"Column Names:\")\n",
        "for column in column_names:\n",
        "    print(column)\n"
      ],
      "metadata": {
        "id": "Tel-iU3ENP3e",
        "colab": {
          "base_uri": "https://localhost:8080/"
        },
        "outputId": "90d380f4-d100-43bc-93a9-2de61069dbb2"
      },
      "execution_count": null,
      "outputs": [
        {
          "output_type": "stream",
          "name": "stdout",
          "text": [
            "Column Names:\n",
            "sex_dummy\n",
            "race_dummy\n",
            "born_dummy\n",
            "parborn_dummy\n",
            "disblty_dummy\n",
            "gender1_dummy\n",
            "relig_dummy\n",
            "relig16_dummy\n",
            "health_dummy\n",
            "age__25-34\n",
            "age__35-44\n",
            "age__45-54\n",
            "age__55-64\n",
            "age__65+\n",
            "college_segment_Bachelors\n",
            "college_segment_Graduate or Above\n",
            "college_segment_Less Than High School\n",
            "college_segment_No Formal Schooling\n",
            "college_segment_Some College\n",
            "happy_encoded\n",
            "year\n",
            "cohort\n",
            "physhlth_encoded\n",
            "mntlhlth_encoded\n",
            "rincome_encoded\n",
            "income_encoded\n"
          ]
        }
      ]
    },
    {
      "cell_type": "code",
      "source": [
        "# Assuming X contains your independent variables and y contains 'happy_encoded'\n",
        "sm_model = sm.MNLogit(y_train, X_scaled, ref_category=1).fit()"
      ],
      "metadata": {
        "colab": {
          "base_uri": "https://localhost:8080/"
        },
        "id": "tuOqWBn0kUYh",
        "outputId": "9c15b522-e6a2-4a93-f440-64bf16b7dbb9"
      },
      "execution_count": null,
      "outputs": [
        {
          "output_type": "stream",
          "name": "stderr",
          "text": [
            "/usr/local/lib/python3.11/dist-packages/statsmodels/base/model.py:130: ValueWarning: unknown kwargs ['ref_category']\n",
            "  warnings.warn(msg, ValueWarning)\n"
          ]
        },
        {
          "output_type": "stream",
          "name": "stdout",
          "text": [
            "Optimization terminated successfully.\n",
            "         Current function value: 1.066270\n",
            "         Iterations 5\n"
          ]
        }
      ]
    },
    {
      "cell_type": "code",
      "source": [
        "import numpy as np\n",
        "\n",
        "# ----> Get the parameters (coefficients) from the model <----\n",
        "params = sm_model.params\n",
        "\n",
        "# ----> Calculate odds ratios using the parameters <----\n",
        "odds_ratios = np.exp(params)\n",
        "\n",
        "# ----> Assuming columns are integer 0 and 1, rename them <----\n",
        "odds_ratios = odds_ratios.rename(columns={0: '2', 1: '3'})  # Using integer keys for rename\n",
        "\n",
        "# ----> Get original column names from X or X_scaled <----\n",
        "original_column_names = X.columns  # Or X_scaled.columns if you used X_scaled in the model\n",
        "\n",
        "# ----> Replace index with original column names <----\n",
        "odds_ratios.index = original_column_names\n",
        "\n",
        "# ----> Print odds ratios with original column names <----\n",
        "print(odds_ratios)"
      ],
      "metadata": {
        "colab": {
          "base_uri": "https://localhost:8080/"
        },
        "id": "d7pM3tO8mX-B",
        "outputId": "9284dff0-9bec-4a40-adce-118811fc52c6"
      },
      "execution_count": null,
      "outputs": [
        {
          "output_type": "stream",
          "name": "stdout",
          "text": [
            "                                              2         3\n",
            "sex_dummy                              1.138613  1.144957\n",
            "race_dummy                             0.967740  0.908895\n",
            "born_dummy                             1.337649  1.150370\n",
            "parborn_dummy                          0.965051  0.978212\n",
            "disblty_dummy                          1.023954  1.044653\n",
            "gender1_dummy                          0.811189  0.818836\n",
            "relig_dummy                            0.955474  0.986630\n",
            "relig16_dummy                          1.015683  1.015705\n",
            "health_dummy                           0.713186  0.779010\n",
            "age__25-34                             1.006963  0.998339\n",
            "age__35-44                             1.018320  1.029143\n",
            "age__45-54                             1.001965  1.024303\n",
            "age__55-64                             0.993598  1.015204\n",
            "age__65+                               0.959025  0.942976\n",
            "college_segment_Bachelors              0.974233  0.962045\n",
            "college_segment_Graduate or Above      0.990285  0.964167\n",
            "college_segment_Less Than High School  0.983821  1.034025\n",
            "college_segment_No Formal Schooling    0.994397  0.997427\n",
            "college_segment_Some College           0.989546  0.984894\n",
            "year                                   0.857759  1.092042\n",
            "cohort                                 1.176446  1.051473\n",
            "physhlth_encoded                       1.016449  1.019680\n",
            "mntlhlth_encoded                       1.108587  1.197356\n",
            "rincome_encoded                        0.966331  0.954983\n",
            "income_encoded                         0.908617  0.789868\n"
          ]
        }
      ]
    },
    {
      "cell_type": "markdown",
      "source": [
        "##Random Forests"
      ],
      "metadata": {
        "id": "cW0jynzGP8rr"
      }
    },
    {
      "cell_type": "code",
      "source": [
        "#random forest\n",
        "!pip install scikit-learn\n",
        "\n",
        "import pandas as pd\n",
        "from sklearn.model_selection import train_test_split\n",
        "from sklearn.ensemble import RandomForestClassifier\n",
        "from sklearn.metrics import accuracy_score, classification_report\n",
        "from sklearn.impute import SimpleImputer\n",
        "from sklearn.preprocessing import StandardScaler\n",
        "\n",
        "# Assuming 'df' is your DataFrame and 'happy_encoded' is your target variable\n",
        "X = df.drop('happy_encoded', axis=1)\n",
        "y = df['happy_encoded']\n",
        "\n",
        "# Impute mean for missing values in X\n",
        "imputer = SimpleImputer(strategy='mean')\n",
        "X = pd.DataFrame(imputer.fit_transform(X), columns=X.columns)\n",
        "\n",
        "# Drop rows with missing values in y\n",
        "X = X[y.notna()]\n",
        "y = y.dropna()\n",
        "\n",
        "# Reset index after dropping rows\n",
        "X = X.reset_index(drop=True)\n",
        "y = y.reset_index(drop=True)\n",
        "\n",
        "# Split data into training and testing sets\n",
        "X_train, X_test, y_train, y_test = train_test_split(X, y, test_size=0.2, random_state=42)\n",
        "\n",
        "# Standardize features (optional but often recommended for Random Forest)\n",
        "scaler = StandardScaler()\n",
        "X_train = scaler.fit_transform(X_train)\n",
        "X_test = scaler.transform(X_test)\n",
        "\n",
        "# ----> Create and Train the Random Forest Model <----\n",
        "rf_model = RandomForestClassifier(n_estimators=100, random_state=42)  # You can adjust hyperparameters\n",
        "rf_model.fit(X_train, y_train)\n",
        "\n",
        "# ----> Make Predictions and Evaluate the Model <----\n",
        "y_pred = rf_model.predict(X_test)\n",
        "accuracy = accuracy_score(y_test, y_pred)\n",
        "print(f\"Accuracy: {accuracy}\")\n",
        "print(classification_report(y_test, y_pred))\n",
        "\n",
        "#"
      ],
      "metadata": {
        "id": "0n4ieCY2P7oC",
        "colab": {
          "base_uri": "https://localhost:8080/"
        },
        "outputId": "c623e99b-56f5-4079-899a-178b9b46d0d6"
      },
      "execution_count": null,
      "outputs": [
        {
          "output_type": "stream",
          "name": "stdout",
          "text": [
            "Requirement already satisfied: scikit-learn in /usr/local/lib/python3.11/dist-packages (1.6.1)\n",
            "Requirement already satisfied: numpy>=1.19.5 in /usr/local/lib/python3.11/dist-packages (from scikit-learn) (2.0.2)\n",
            "Requirement already satisfied: scipy>=1.6.0 in /usr/local/lib/python3.11/dist-packages (from scikit-learn) (1.14.1)\n",
            "Requirement already satisfied: joblib>=1.2.0 in /usr/local/lib/python3.11/dist-packages (from scikit-learn) (1.4.2)\n",
            "Requirement already satisfied: threadpoolctl>=3.1.0 in /usr/local/lib/python3.11/dist-packages (from scikit-learn) (3.6.0)\n",
            "Accuracy: 0.5313449108324897\n",
            "              precision    recall  f1-score   support\n",
            "\n",
            "           1       0.49      0.44      0.47      4366\n",
            "           2       0.58      0.69      0.63      6809\n",
            "           3       0.23      0.10      0.14      1666\n",
            "\n",
            "    accuracy                           0.53     12841\n",
            "   macro avg       0.43      0.41      0.41     12841\n",
            "weighted avg       0.50      0.53      0.51     12841\n",
            "\n"
          ]
        }
      ]
    },
    {
      "cell_type": "code",
      "source": [
        "#----> Feature Importance (Optional) <----\n",
        "feature_importances = pd.DataFrame({'feature': X.columns, 'importance': rf_model.feature_importances_})\n",
        "print(feature_importances.sort_values(by='importance', ascending=False))\n"
      ],
      "metadata": {
        "id": "1ur9GwuHiKYV",
        "colab": {
          "base_uri": "https://localhost:8080/"
        },
        "outputId": "7bc3c872-7138-4c4a-c674-12c338519f94"
      },
      "execution_count": null,
      "outputs": [
        {
          "output_type": "stream",
          "name": "stdout",
          "text": [
            "                                  feature  importance\n",
            "20                                 cohort    0.308167\n",
            "19                                   year    0.208717\n",
            "23                        rincome_encoded    0.098328\n",
            "24                         income_encoded    0.084654\n",
            "0                               sex_dummy    0.031025\n",
            "22                       mntlhlth_encoded    0.027019\n",
            "1                              race_dummy    0.022022\n",
            "5                           gender1_dummy    0.021881\n",
            "8                            health_dummy    0.019802\n",
            "3                           parborn_dummy    0.018765\n",
            "21                       physhlth_encoded    0.018750\n",
            "18           college_segment_Some College    0.017445\n",
            "16  college_segment_Less Than High School    0.017004\n",
            "9                              age__25-34    0.014384\n",
            "10                             age__35-44    0.014147\n",
            "14              college_segment_Bachelors    0.013849\n",
            "11                             age__45-54    0.012290\n",
            "15      college_segment_Graduate or Above    0.012039\n",
            "2                              born_dummy    0.011165\n",
            "12                             age__55-64    0.010036\n",
            "13                               age__65+    0.007318\n",
            "6                             relig_dummy    0.004805\n",
            "4                           disblty_dummy    0.002840\n",
            "7                           relig16_dummy    0.002674\n",
            "17    college_segment_No Formal Schooling    0.000875\n"
          ]
        }
      ]
    },
    {
      "cell_type": "markdown",
      "source": [
        "##KNN"
      ],
      "metadata": {
        "id": "aMkwY4xp4E6d"
      }
    },
    {
      "cell_type": "code",
      "source": [
        "from sklearn.neighbors import KNeighborsClassifier\n",
        "\n",
        "# Create and Train the KNN Model\n",
        "knn_model = KNeighborsClassifier(n_neighbors=5)  # You can adjust the number of neighbors (k)\n",
        "knn_model.fit(X_train, y_train)\n",
        "\n",
        "# Make Predictions and Evaluate the Model\n",
        "y_pred = knn_model.predict(X_test)\n",
        "accuracy = accuracy_score(y_test, y_pred)\n",
        "print(f\"Accuracy: {accuracy}\")\n",
        "print(classification_report(y_test, y_pred))"
      ],
      "metadata": {
        "colab": {
          "base_uri": "https://localhost:8080/"
        },
        "id": "WOZkcGuUUhva",
        "outputId": "d4cdc927-7579-491d-af3a-8676405f71c4"
      },
      "execution_count": null,
      "outputs": [
        {
          "output_type": "stream",
          "name": "stdout",
          "text": [
            "Accuracy: 0.5074371154894478\n",
            "              precision    recall  f1-score   support\n",
            "\n",
            "           1       0.43      0.46      0.45      4366\n",
            "           2       0.57      0.65      0.60      6809\n",
            "           3       0.26      0.06      0.10      1666\n",
            "\n",
            "    accuracy                           0.51     12841\n",
            "   macro avg       0.42      0.39      0.38     12841\n",
            "weighted avg       0.48      0.51      0.48     12841\n",
            "\n"
          ]
        }
      ]
    },
    {
      "cell_type": "markdown",
      "source": [
        "For cluster analysis, i want to break the income category into multiple segments"
      ],
      "metadata": {
        "id": "VdECfEbNWFbp"
      }
    },
    {
      "cell_type": "markdown",
      "source": [
        "##Cluster Analysis"
      ],
      "metadata": {
        "id": "n8k_fdUl4IAI"
      }
    },
    {
      "cell_type": "code",
      "source": [
        "#ignore nan\n",
        "import pandas as pd\n",
        "from sklearn.cluster import KMeans\n",
        "from sklearn.preprocessing import StandardScaler\n",
        "import matplotlib.pyplot as plt\n"
      ],
      "metadata": {
        "id": "wmRS_4u-4jpI"
      },
      "execution_count": null,
      "outputs": []
    },
    {
      "cell_type": "code",
      "source": [
        "import pandas as pd\n",
        "from sklearn.cluster import KMeans\n",
        "from sklearn.preprocessing import StandardScaler\n",
        "import matplotlib.pyplot as plt\n",
        "import numpy as np\n",
        "\n",
        "# Assuming 'df' is your DataFrame and 'income_encoded', 'rincome_encoded' are your income features\n",
        "\n",
        "# Define income segments for income_encoded (adjust ranges as needed)\n",
        "income_segments = {\n",
        "    'Low': (1, 5),\n",
        "    'Medium': (6, 10),\n",
        "    'High': (11, 13)\n",
        "}\n",
        "\n",
        "# Define income segments for rincome_encoded (adjust ranges as needed)\n",
        "rincome_segments = {\n",
        "    'Low': (1, 5),\n",
        "    'Medium': (6, 10),\n",
        "    'High': (11, 12)\n",
        "}\n",
        "\n",
        "\n",
        "# Create new features for income_encoded segments\n",
        "for segment_name, (start, end) in income_segments.items():\n",
        "    df[f'income_{segment_name}'] = ((df['income_encoded'] >= start) & (df['income_encoded'] <= end)).astype(int)\n",
        "\n",
        "# Create new features for rincome_encoded segments\n",
        "for segment_name, (start, end) in rincome_segments.items():\n",
        "    df[f'rincome_{segment_name}'] = ((df['rincome_encoded'] >= start) & (df['rincome_encoded'] <= end)).astype(int)\n",
        "\n",
        "\n",
        "# Drop the original 'income_encoded' and 'rincome_encoded' columns\n",
        "df_cluster = df.drop(['income_encoded', 'rincome_encoded'], axis=1)\n",
        "\n",
        "# ... (rest of your clustering code using the updated df) ..."
      ],
      "metadata": {
        "id": "1u8NUCyMWypb"
      },
      "execution_count": null,
      "outputs": []
    },
    {
      "cell_type": "code",
      "source": [
        "import pandas as pd\n",
        "from sklearn.cluster import KMeans\n",
        "from sklearn.preprocessing import StandardScaler\n",
        "import matplotlib.pyplot as plt\n",
        "import numpy as np\n",
        "\n",
        "# Assuming 'df' is your DataFrame and you've already preprocessed it\n",
        "X = df_cluster.drop('happy_encoded', axis=1)  # Features for clustering\n",
        "\n",
        "# ----> Impute mean for missing values in X before scaling <----\n",
        "imputer = SimpleImputer(strategy='mean')\n",
        "X = pd.DataFrame(imputer.fit_transform(X), columns=X.columns)\n",
        "\n",
        "# Standardize features (important for KMeans)\n",
        "scaler = StandardScaler()\n",
        "X_scaled = scaler.fit_transform(X)\n",
        "\n",
        "# ----> Remove or replace NaN values in X_scaled <----\n",
        "# Option 1: Remove rows with NaN values\n",
        "# X_scaled = X_scaled[~np.isnan(X_scaled).any(axis=1)]\n",
        "\n",
        "# Option 2: Replace NaN values with a specific value (e.g., 0)\n",
        "X_scaled = np.nan_to_num(X_scaled)\n",
        "\n",
        "# Determine the optimal number of clusters (e.g., using the elbow method)\n",
        "wcss = []  # Within-cluster sum of squares\n",
        "for i in range(1, 11):\n",
        "    kmeans = KMeans(n_clusters=i, random_state=42)\n",
        "    kmeans.fit(X_scaled)\n",
        "    wcss.append(kmeans.inertia_)\n",
        "\n",
        "# Plot the elbow curve\n",
        "plt.plot(range(1, 11), wcss)\n",
        "plt.title('Elbow Method')\n",
        "plt.xlabel('Number of Clusters')\n",
        "plt.ylabel('WCSS')\n",
        "plt.show()\n",
        "\n",
        "# Choose the optimal number of clusters based on the elbow curve (e.g., 3)\n",
        "optimal_clusters = 3  # Adjust based on the elbow curve\n",
        "\n",
        "# Apply KMeans clustering\n",
        "kmeans = KMeans(n_clusters=optimal_clusters, random_state=42)\n",
        "clusters = kmeans.fit_predict(X_scaled)\n",
        "\n",
        "# Add the cluster labels to your DataFrame\n",
        "df['cluster'] = clusters\n",
        "\n",
        "# Analyze the clusters (e.g., by examining the characteristics of data points in each cluster)\n",
        "print(df.groupby('cluster').mean())  # Example: Get the mean values of features for each cluster"
      ],
      "metadata": {
        "id": "wRPtRmjE42iY",
        "colab": {
          "base_uri": "https://localhost:8080/",
          "height": 1000
        },
        "outputId": "c242fa05-e67e-41a7-e795-e1cc7fbb9f3a"
      },
      "execution_count": null,
      "outputs": [
        {
          "output_type": "display_data",
          "data": {
            "text/plain": [
              "<Figure size 640x480 with 1 Axes>"
            ],
            "image/png": "[encoded data removed]"
          },
          "metadata": {}
        },
        {
          "output_type": "stream",
          "name": "stdout",
          "text": [
            "         sex_dummy  race_dummy  born_dummy  parborn_dummy  disblty_dummy  \\\n",
            "cluster                                                                    \n",
            "0         0.492756    0.830103    0.872374       0.790530       0.012637   \n",
            "1         0.453984    0.778894    0.878966       0.799569       0.010983   \n",
            "2         0.378217    0.771503    0.576682       0.499973       0.002176   \n",
            "\n",
            "         gender1_dummy  relig_dummy  relig16_dummy  health_dummy  age__25-34  \\\n",
            "cluster                                                                        \n",
            "0             0.662778     0.014644       0.007934      0.238978    0.218407   \n",
            "1             0.604810     0.020675       0.009763      0.227064    0.248887   \n",
            "2             0.394483     0.006528       0.003971      0.185246    0.198303   \n",
            "\n",
            "         ...  physhlth_encoded  mntlhlth_encoded  rincome_encoded  \\\n",
            "cluster  ...                                                        \n",
            "0        ...          0.631127          0.876052        10.462542   \n",
            "1        ...          0.725627          0.949089         9.865962   \n",
            "2        ...          0.844758          1.287548         5.562386   \n",
            "\n",
            "         income_encoded  income_Low  income_Medium  income_High  rincome_Low  \\\n",
            "cluster                                                                        \n",
            "0             12.632393    0.002665       0.003575     0.993760     0.055629   \n",
            "1             11.989591    0.034386       0.100359     0.865255     0.085571   \n",
            "2              7.792384    0.226919       0.617975     0.075132     0.189652   \n",
            "\n",
            "         rincome_Medium  rincome_High  \n",
            "cluster                                \n",
            "0              0.186108      0.500815  \n",
            "1              0.226490      0.421680  \n",
            "2              0.197759      0.001088  \n",
            "\n",
            "[3 rows x 32 columns]\n"
          ]
        }
      ]
    },
    {
      "cell_type": "code",
      "source": [
        "import pandas as pd\n",
        "from sklearn.cluster import KMeans\n",
        "from sklearn.preprocessing import StandardScaler\n",
        "import matplotlib.pyplot as plt\n",
        "import numpy as np\n",
        "\n",
        "# Get cluster centers\n",
        "cluster_centers = kmeans.cluster_centers_\n",
        "\n",
        "# ----> Ensure that X.columns matches the shape of cluster_centers <----\n",
        "# Get the columns used during clustering (from X_scaled)\n",
        "cluster_columns = X.columns  # Assuming X_scaled was derived from X\n",
        "\n",
        "# Create a DataFrame from cluster centers using the correct columns\n",
        "cluster_centers_df = pd.DataFrame(cluster_centers, columns=cluster_columns)\n",
        "\n",
        "\n",
        "# ----> Plotting Cluster Centers <----\n",
        "plt.figure(figsize=(12, 6))  # Adjust figure size as needed\n",
        "for i, cluster in enumerate(cluster_centers_df.index):\n",
        "    plt.bar(cluster_centers_df.columns, cluster_centers_df.loc[cluster], label=f\"Cluster {i + 1}\")\n",
        "\n",
        "plt.xticks(rotation=90)  # Rotate x-axis labels for readability\n",
        "plt.xlabel(\"Variables\")\n",
        "plt.ylabel(\"Cluster Center Value\")\n",
        "plt.title(\"Variable Contribution to Clusters\")\n",
        "plt.legend()\n",
        "plt.tight_layout()\n",
        "plt.show()"
      ],
      "metadata": {
        "id": "Ej6zmttJGcBA",
        "colab": {
          "base_uri": "https://localhost:8080/",
          "height": 329
        },
        "outputId": "c23efb67-2f91-4888-d065-d27cdca196b6"
      },
      "execution_count": null,
      "outputs": [
        {
          "output_type": "display_data",
          "data": {
            "text/plain": [
              "<Figure size 1200x600 with 1 Axes>"
            ],
            "image/png": "[encoded data removed]"
          },
          "metadata": {}
        }
      ]
    },
    {
      "cell_type": "code",
      "source": [
        "# ----> Visualize Component Loadings (Optional) <----\n",
        "plt.figure(figsize=(12, 6))\n",
        "plt.matshow(pca.components_, cmap='viridis')\n",
        "plt.yticks([0, 1, 2], ['PC1', 'PC2', 'PC3'])\n",
        "plt.colorbar()\n",
        "plt.xticks(range(len(X.columns)), X.columns, rotation=90)\n",
        "plt.xlabel(\"Features\")\n",
        "plt.ylabel(\"Principal Components\")\n",
        "plt.title(\"Component Loadings\")\n",
        "plt.show()"
      ],
      "metadata": {
        "id": "e1eEIxrGGE-a",
        "colab": {
          "base_uri": "https://localhost:8080/",
          "height": 269
        },
        "outputId": "c2d5a6ca-c5fd-4162-8bc4-2338b0c55b55"
      },
      "execution_count": null,
      "outputs": [
        {
          "output_type": "error",
          "ename": "NameError",
          "evalue": "name 'pca' is not defined",
          "traceback": [
            "\u001b[0;31m---------------------------------------------------------------------------\u001b[0m",
            "\u001b[0;31mNameError\u001b[0m                                 Traceback (most recent call last)",
            "\u001b[0;32m<ipython-input-60-98bc8261d0d0>\u001b[0m in \u001b[0;36m<cell line: 0>\u001b[0;34m()\u001b[0m\n\u001b[1;32m      1\u001b[0m \u001b[0;31m# ----> Visualize Component Loadings (Optional) <----\u001b[0m\u001b[0;34m\u001b[0m\u001b[0;34m\u001b[0m\u001b[0m\n\u001b[1;32m      2\u001b[0m \u001b[0mplt\u001b[0m\u001b[0;34m.\u001b[0m\u001b[0mfigure\u001b[0m\u001b[0;34m(\u001b[0m\u001b[0mfigsize\u001b[0m\u001b[0;34m=\u001b[0m\u001b[0;34m(\u001b[0m\u001b[0;36m12\u001b[0m\u001b[0;34m,\u001b[0m \u001b[0;36m6\u001b[0m\u001b[0;34m)\u001b[0m\u001b[0;34m)\u001b[0m\u001b[0;34m\u001b[0m\u001b[0;34m\u001b[0m\u001b[0m\n\u001b[0;32m----> 3\u001b[0;31m \u001b[0mplt\u001b[0m\u001b[0;34m.\u001b[0m\u001b[0mmatshow\u001b[0m\u001b[0;34m(\u001b[0m\u001b[0mpca\u001b[0m\u001b[0;34m.\u001b[0m\u001b[0mcomponents_\u001b[0m\u001b[0;34m,\u001b[0m \u001b[0mcmap\u001b[0m\u001b[0;34m=\u001b[0m\u001b[0;34m'viridis'\u001b[0m\u001b[0;34m)\u001b[0m\u001b[0;34m\u001b[0m\u001b[0;34m\u001b[0m\u001b[0m\n\u001b[0m\u001b[1;32m      4\u001b[0m \u001b[0mplt\u001b[0m\u001b[0;34m.\u001b[0m\u001b[0myticks\u001b[0m\u001b[0;34m(\u001b[0m\u001b[0;34m[\u001b[0m\u001b[0;36m0\u001b[0m\u001b[0;34m,\u001b[0m \u001b[0;36m1\u001b[0m\u001b[0;34m,\u001b[0m \u001b[0;36m2\u001b[0m\u001b[0;34m]\u001b[0m\u001b[0;34m,\u001b[0m \u001b[0;34m[\u001b[0m\u001b[0;34m'PC1'\u001b[0m\u001b[0;34m,\u001b[0m \u001b[0;34m'PC2'\u001b[0m\u001b[0;34m,\u001b[0m \u001b[0;34m'PC3'\u001b[0m\u001b[0;34m]\u001b[0m\u001b[0;34m)\u001b[0m\u001b[0;34m\u001b[0m\u001b[0;34m\u001b[0m\u001b[0m\n\u001b[1;32m      5\u001b[0m \u001b[0mplt\u001b[0m\u001b[0;34m.\u001b[0m\u001b[0mcolorbar\u001b[0m\u001b[0;34m(\u001b[0m\u001b[0;34m)\u001b[0m\u001b[0;34m\u001b[0m\u001b[0;34m\u001b[0m\u001b[0m\n",
            "\u001b[0;31mNameError\u001b[0m: name 'pca' is not defined"
          ]
        },
        {
          "output_type": "display_data",
          "data": {
            "text/plain": [
              "<Figure size 1200x600 with 0 Axes>"
            ]
          },
          "metadata": {}
        }
      ]
    },
    {
      "cell_type": "code",
      "source": [
        "import pandas as pd\n",
        "from sklearn.cluster import KMeans\n",
        "from sklearn.preprocessing import StandardScaler\n",
        "import matplotlib.pyplot as plt\n",
        "import numpy as np\n",
        "\n",
        "# ... (previous code for clustering) ...\n",
        "\n",
        "# Get cluster centers\n",
        "cluster_centers = kmeans.cluster_centers_\n",
        "\n",
        "# Create a DataFrame from cluster centers\n",
        "cluster_centers_df = pd.DataFrame(cluster_centers, columns=X.columns)\n",
        "\n",
        "# Add a cluster label column\n",
        "cluster_centers_df['cluster_label'] = range(kmeans.n_clusters)\n",
        "\n",
        "# Save to Excel\n",
        "cluster_centers_df.to_excel(\"cluster_coefficients.xlsx\", index=False)\n",
        "print(\"Cluster coefficients saved to cluster_coefficients.xlsx\")"
      ],
      "metadata": {
        "id": "t3owb69L8-Hu",
        "colab": {
          "base_uri": "https://localhost:8080/"
        },
        "outputId": "2caaf3d7-a804-4212-8cfc-68ff447e8593"
      },
      "execution_count": null,
      "outputs": [
        {
          "output_type": "stream",
          "name": "stdout",
          "text": [
            "Cluster coefficients saved to cluster_coefficients.xlsx\n"
          ]
        }
      ]
    },
    {
      "cell_type": "code",
      "source": [
        "import pandas as pd\n",
        "from sklearn.cluster import KMeans\n",
        "from sklearn.preprocessing import StandardScaler\n",
        "import matplotlib.pyplot as plt\n",
        "import numpy as np\n",
        "\n",
        "# ... (previous code for clustering) ...\n",
        "\n",
        "# Add the cluster labels to your DataFrame\n",
        "df['cluster'] = clusters\n",
        "\n",
        "# ----> Distribution of clusters within happy_encoded levels <----\n",
        "for happy_level in [1, 2, 3]:\n",
        "    print(f\"\\nHappy Encoded Level: {happy_level}\")\n",
        "    cluster_distribution = df[df['happy_encoded'] == happy_level]['cluster'].value_counts(normalize=True) * 100\n",
        "    print(cluster_distribution)"
      ],
      "metadata": {
        "id": "HX9RgKTB6scz",
        "colab": {
          "base_uri": "https://localhost:8080/"
        },
        "outputId": "a4101b0d-0231-49a7-dc12-adf971912c12"
      },
      "execution_count": null,
      "outputs": [
        {
          "output_type": "stream",
          "name": "stdout",
          "text": [
            "\n",
            "Happy Encoded Level: 1\n",
            "cluster\n",
            "0    53.612287\n",
            "2    24.569859\n",
            "1    21.817854\n",
            "Name: proportion, dtype: float64\n",
            "\n",
            "Happy Encoded Level: 2\n",
            "cluster\n",
            "0    49.464339\n",
            "2    28.398935\n",
            "1    22.136727\n",
            "Name: proportion, dtype: float64\n",
            "\n",
            "Happy Encoded Level: 3\n",
            "cluster\n",
            "2    40.565233\n",
            "0    39.870873\n",
            "1    19.563893\n",
            "Name: proportion, dtype: float64\n"
          ]
        }
      ]
    },
    {
      "cell_type": "code",
      "source": [
        "#want to download the clusters\n",
        "import pandas as pd\n",
        "from sklearn.cluster import KMeans\n",
        "from sklearn.preprocessing import StandardScaler\n",
        "import matplotlib.pyplot as plt\n",
        "import numpy as np\n",
        "\n",
        "# ... (previous code for clustering) ...\n",
        "\n",
        "# Add the cluster labels to your DataFrame\n",
        "df['cluster'] = clusters\n",
        "\n",
        "# ----> Download clusters as CSV files <----\n",
        "for cluster_label in df['cluster'].unique():\n",
        "    cluster_data = df[df['cluster'] == cluster_label]\n",
        "    filename = f\"cluster_{cluster_label}.csv\"\n",
        "    cluster_data.to_csv(filename, index=False)\n",
        "    print(f\"Cluster {cluster_label} saved to {filename}\")"
      ],
      "metadata": {
        "id": "Cc7HV2PN64Uq"
      },
      "execution_count": null,
      "outputs": []
    },
    {
      "cell_type": "markdown",
      "source": [
        "###PCA"
      ],
      "metadata": {
        "id": "6PscbDAZ_gNK"
      }
    },
    {
      "cell_type": "code",
      "source": [
        "import pandas as pd\n",
        "from sklearn.preprocessing import StandardScaler\n",
        "from sklearn.decomposition import PCA\n",
        "import matplotlib.pyplot as plt\n",
        "import numpy as np\n",
        "from sklearn.impute import SimpleImputer # Import SimpleImputer\n",
        "from mpl_toolkits.mplot3d import Axes3D #Import for 3D plotting\n",
        "\n",
        "# Assuming 'df' is your DataFrame and you've already preprocessed it\n",
        "X = df.drop('happy_encoded', axis=1)\n",
        "\n",
        "# ----> Impute mean for missing values in X before scaling <----\n",
        "imputer = SimpleImputer(strategy='mean')\n",
        "X = pd.DataFrame(imputer.fit_transform(X), columns=X.columns)\n",
        "\n",
        "# Standardize the features\n",
        "x = StandardScaler().fit_transform(X)\n",
        "\n",
        "# Apply PCA\n",
        "pca = PCA(n_components=3)  # Choose the number of components (e.g., 2 for visualization)\n",
        "principalComponents = pca.fit_transform(x)\n",
        "principalDf = pd.DataFrame(data=principalComponents, columns=['principal component 1', 'principal component 2','principal component 3'])\n",
        "\n",
        "# ----> Concatenate with original DataFrame <----\n",
        "finalDf = pd.concat([principalDf, df[['happy_encoded']]], axis=1)\n",
        "\n",
        "# Visualize the results\n",
        "fig = plt.figure(figsize=(8, 8))\n",
        "ax = fig.add_subplot(111, projection='3d') #projection='3d' is added\n",
        "ax.set_xlabel('Principal Component 1', fontsize=15)\n",
        "ax.set_ylabel('Principal Component 2', fontsize=15)\n",
        "ax.set_zlabel('Principal Component 3', fontsize=15) #z label added\n",
        "ax.set_title('3 component PCA', fontsize=20) #changed to 3 component\n",
        "targets = [1, 2, 3]  # Assuming 'happy_encoded' has values 1, 2, 3\n",
        "colors = ['r', 'g', 'b']\n",
        "for target, color in zip(targets, colors):\n",
        "    indicesToKeep = finalDf['happy_encoded'] == target\n",
        "    ax.scatter(finalDf.loc[indicesToKeep, 'principal component 1'],\n",
        "               finalDf.loc[indicesToKeep, 'principal component 2'],\n",
        "               finalDf.loc[indicesToKeep, 'principal component 3'],\n",
        "               c=color, s=50)\n",
        "ax.legend(targets)\n",
        "ax.grid()\n",
        "plt.show()\n",
        "\n",
        "# ----> Explained Variance Ratio <----\n",
        "print(f\"Explained variance ratio: {pca.explained_variance_ratio_}\")"
      ],
      "metadata": {
        "id": "lLuSktBBAaYq"
      },
      "execution_count": null,
      "outputs": []
    },
    {
      "cell_type": "code",
      "source": [
        "import pandas as pd\n",
        "from sklearn.preprocessing import StandardScaler\n",
        "from sklearn.decomposition import PCA\n",
        "import matplotlib.pyplot as plt\n",
        "import numpy as np\n",
        "from sklearn.impute import SimpleImputer\n",
        "from mpl_toolkits.mplot3d import Axes3D\n",
        "\n",
        "# ... (your existing code for data preprocessing and PCA) ...\n",
        "\n",
        "# ----> Get Component Loadings <----\n",
        "component_loadings = pd.DataFrame(pca.components_.T,\n",
        "                                  columns=['PC1', 'PC2', 'PC3'],\n",
        "                                  index=X.columns)\n",
        "\n",
        "# ----> Print Component Loadings <----\n",
        "print(\"\\nComponent Loadings:\")\n",
        "print(component_loadings)"
      ],
      "metadata": {
        "id": "_uOaxg_OAsxE"
      },
      "execution_count": null,
      "outputs": []
    },
    {
      "cell_type": "code",
      "source": [
        "import pandas as pd\n",
        "from sklearn.preprocessing import StandardScaler\n",
        "from sklearn.decomposition import PCA\n",
        "import matplotlib.pyplot as plt\n",
        "import numpy as np\n",
        "from sklearn.impute import SimpleImputer\n",
        "from mpl_toolkits.mplot3d import Axes3D\n",
        "\n",
        "# ... (your existing code for data preprocessing and PCA) ...\n",
        "\n",
        "# ... (your existing code to create the 3D scatter plot) ...\n",
        "\n",
        "# ----> Save the plot <----\n",
        "plt.savefig(\"pca_plot.png\")  # Save as PNG (you can change the format and filename)\n",
        "print(\"PCA plot saved to pca_plot.png\")\n",
        "\n",
        "# ... (rest of your code for explained variance and component loadings) ..."
      ],
      "metadata": {
        "id": "7z3Umu5VBfF4"
      },
      "execution_count": null,
      "outputs": []
    },
    {
      "cell_type": "code",
      "source": [
        "#want to download Component Loadings\n",
        "import pandas as pd\n",
        "from sklearn.preprocessing import StandardScaler\n",
        "from sklearn.decomposition import PCA\n",
        "import matplotlib.pyplot as plt\n",
        "import numpy as np\n",
        "from sklearn.impute import SimpleImputer\n",
        "from mpl_toolkits.mplot3d import Axes3D\n",
        "\n",
        "# ----> Get Component Loadings <----\n",
        "component_loadings = pd.DataFrame(pca.components_.T,\n",
        "                                  columns=['PC1', 'PC2', 'PC3'],\n",
        "                                  index=X.columns)\n",
        "\n",
        "# ----> Save Component Loadings to CSV <----\n",
        "component_loadings.to_csv(\"component_loadings.csv\")\n",
        "print(\"Component loadings saved to component_loadings.csv\")\n",
        "\n"
      ],
      "metadata": {
        "id": "URc-Uv4nA5Hz"
      },
      "execution_count": null,
      "outputs": []
    },
    {
      "cell_type": "markdown",
      "source": [],
      "metadata": {
        "id": "uIfOE8TTA4v2"
      }
    },
    {
      "cell_type": "code",
      "source": [],
      "metadata": {
        "id": "5FBSZaNTFJ-J"
      },
      "execution_count": null,
      "outputs": []
    }
  ]
}